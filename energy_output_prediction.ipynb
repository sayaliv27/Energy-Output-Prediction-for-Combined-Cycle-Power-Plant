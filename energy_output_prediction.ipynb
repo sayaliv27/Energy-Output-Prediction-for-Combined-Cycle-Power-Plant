{
 "cells": [
  {
   "cell_type": "code",
   "execution_count": 33,
   "id": "f81b7ffe",
   "metadata": {},
   "outputs": [],
   "source": [
    "import numpy \n",
    "import numpy as np\n",
    "import matplotlib.pyplot as plt\n",
    "from sklearn import preprocessing\n",
    "from sklearn import model_selection\n",
    "from sklearn import linear_model\n",
    "import seaborn as sns"
   ]
  },
  {
   "cell_type": "code",
   "execution_count": 34,
   "id": "a4e1b213",
   "metadata": {},
   "outputs": [],
   "source": [
    "import pandas\n",
    "import pandas as pd"
   ]
  },
  {
   "cell_type": "code",
   "execution_count": 35,
   "id": "f111fc43",
   "metadata": {},
   "outputs": [
    {
     "name": "stdout",
     "output_type": "stream",
     "text": [
      "Setup Complete\n"
     ]
    }
   ],
   "source": [
    "df = pd.read_csv(\"C:/Users/sayal/Desktop/PROJECTS/MAJOR PROJECT/ccpp.csv\")\n",
    "df['Ambient_Temp'] = pd.to_numeric(df['Ambient_Temp'],errors = 'coerce')\n",
    "df['Ambient_Pressure'] = pd.to_numeric(df['Ambient_Pressure'], errors = 'coerce')\n",
    "df['Relative_Humidity'] = pd.to_numeric(df['Relative_Humidity'],errors = 'coerce')\n",
    "df['Exhaust_Vacuum'] = pd.to_numeric(df['Exhaust_Vacuum'],errors = 'coerce')\n",
    "df['Energy_Output'] = pd.to_numeric(df['Energy_Output'],errors = 'coerce')\n",
    "print(\"Setup Complete\")"
   ]
  },
  {
   "cell_type": "code",
   "execution_count": 36,
   "id": "5fa756d1",
   "metadata": {},
   "outputs": [
    {
     "name": "stdout",
     "output_type": "stream",
     "text": [
      "<class 'pandas.core.frame.DataFrame'>\n",
      "RangeIndex: 9568 entries, 0 to 9567\n",
      "Data columns (total 5 columns):\n",
      " #   Column             Non-Null Count  Dtype  \n",
      "---  ------             --------------  -----  \n",
      " 0   Ambient_Temp       9568 non-null   float64\n",
      " 1   Exhaust_Vacuum     9568 non-null   float64\n",
      " 2   Ambient_Pressure   9568 non-null   float64\n",
      " 3   Relative_Humidity  9568 non-null   float64\n",
      " 4   Energy_Output      9568 non-null   float64\n",
      "dtypes: float64(5)\n",
      "memory usage: 373.9 KB\n"
     ]
    }
   ],
   "source": [
    "df.info()\n",
    "#All the independent variables are numerical data type and it doesnt have any null values.\n",
    "#The dependent variable is PE - Electrical energy ouput is also an numeric type without null values.\n",
    "#Since, the value is numerical and contineous. So, Linear regression model is used to predict the value of the power."
   ]
  },
  {
   "cell_type": "code",
   "execution_count": 37,
   "id": "5b127565",
   "metadata": {},
   "outputs": [
    {
     "name": "stdout",
     "output_type": "stream",
     "text": [
      "   Ambient_Temp  Ambient_Pressure  Relative_Humidity\n",
      "0          8.34           1010.84              90.01\n",
      "1         23.64           1011.40              74.20\n",
      "2         29.74           1007.15              41.91\n",
      "3         19.07           1007.22              76.79\n",
      "4         11.80           1017.13              97.20\n"
     ]
    },
    {
     "data": {
      "text/plain": [
       "(9568, 5)"
      ]
     },
     "execution_count": 37,
     "metadata": {},
     "output_type": "execute_result"
    }
   ],
   "source": [
    "y=df.Energy_Output\n",
    "features=['Ambient_Temp','Ambient_Pressure','Relative_Humidity']\n",
    "x=df[features]\n",
    "#print(X.describe())\n",
    "print(x.head())\n",
    "df.shape"
   ]
  },
  {
   "cell_type": "code",
   "execution_count": 38,
   "id": "e346bfd7",
   "metadata": {},
   "outputs": [],
   "source": [
    "del df[\"Exhaust_Vacuum\"]"
   ]
  },
  {
   "cell_type": "code",
   "execution_count": 39,
   "id": "0d137484",
   "metadata": {},
   "outputs": [
    {
     "name": "stdout",
     "output_type": "stream",
     "text": [
      "True\n",
      "      Ambient_Temp  Ambient_Pressure  Relative_Humidity  Energy_Output\n",
      "1696          7.24           1020.35              80.56         486.76\n",
      "1979         29.45           1018.12              50.68         437.31\n",
      "2378         12.27           1019.39              52.18         473.84\n",
      "3696         24.79           1017.07              68.23         440.05\n",
      "5020         12.00           1019.48              58.71         474.40\n",
      "5150         12.27           1019.41              58.10         475.13\n",
      "5548          6.86           1020.12              79.14         490.23\n",
      "5578          7.64           1020.01              75.14         488.53\n",
      "6129         29.51           1017.92              50.61         431.18\n",
      "6251          8.07           1019.40              86.43         484.54\n",
      "6278          9.54           1019.79              65.61         481.18\n",
      "6327         25.21           1017.19              69.84         445.84\n",
      "6495         26.12           1017.41              72.31         439.68\n",
      "6514         25.79           1017.46              75.63         434.65\n",
      "6633         24.63           1010.45              85.36         440.67\n",
      "6661         12.19           1019.43              65.47         475.64\n",
      "6690         25.42           1017.39              77.63         438.24\n",
      "6792          6.06           1019.67              84.70         489.62\n",
      "7004         27.64           1017.35              54.78         441.04\n",
      "7062         25.56           1017.37              69.31         442.20\n",
      "7150         28.37           1017.48              55.19         439.25\n",
      "7276         29.05           1017.63              51.16         439.14\n",
      "7406         11.82           1019.50              55.74         475.61\n",
      "7435         25.53           1010.65              82.04         445.59\n",
      "7471         25.91           1018.23              62.65         443.20\n",
      "7507         11.23           1019.36              56.85         475.85\n",
      "7758         29.23           1017.72              52.26         438.92\n",
      "7790         27.54           1018.26              57.89         440.87\n",
      "7898          6.03           1019.81              84.20         488.57\n",
      "7946         26.45           1017.42              74.50         436.89\n",
      "8050         12.11           1019.46              62.59         475.53\n",
      "8075          8.57           1020.18              72.47         484.20\n",
      "8086         28.84           1018.41              53.96         442.69\n",
      "8247         28.41           1018.48              56.07         440.28\n",
      "8329         26.85           1017.43              74.55         433.48\n",
      "8347         10.72           1019.68              60.71         479.21\n",
      "8579         11.61           1019.57              58.82         476.81\n",
      "8885          6.40           1019.54              85.37         488.82\n",
      "9002          8.44           1019.90              70.72         486.15\n",
      "9350          7.87           1020.33              77.77         486.20\n",
      "9518          9.83           1019.34              72.29         478.21\n"
     ]
    }
   ],
   "source": [
    "dups = df.duplicated()\n",
    "print(dups.any())\n",
    "print(df[dups])"
   ]
  },
  {
   "cell_type": "code",
   "execution_count": 40,
   "id": "8422923b",
   "metadata": {},
   "outputs": [
    {
     "data": {
      "text/html": [
       "<div>\n",
       "<style scoped>\n",
       "    .dataframe tbody tr th:only-of-type {\n",
       "        vertical-align: middle;\n",
       "    }\n",
       "\n",
       "    .dataframe tbody tr th {\n",
       "        vertical-align: top;\n",
       "    }\n",
       "\n",
       "    .dataframe thead th {\n",
       "        text-align: right;\n",
       "    }\n",
       "</style>\n",
       "<table border=\"1\" class=\"dataframe\">\n",
       "  <thead>\n",
       "    <tr style=\"text-align: right;\">\n",
       "      <th></th>\n",
       "      <th>Ambient_Temp</th>\n",
       "      <th>Ambient_Pressure</th>\n",
       "      <th>Relative_Humidity</th>\n",
       "      <th>Energy_Output</th>\n",
       "    </tr>\n",
       "  </thead>\n",
       "  <tbody>\n",
       "    <tr>\n",
       "      <th>0</th>\n",
       "      <td>8.34</td>\n",
       "      <td>1010.84</td>\n",
       "      <td>90.01</td>\n",
       "      <td>480.48</td>\n",
       "    </tr>\n",
       "    <tr>\n",
       "      <th>1</th>\n",
       "      <td>23.64</td>\n",
       "      <td>1011.40</td>\n",
       "      <td>74.20</td>\n",
       "      <td>445.75</td>\n",
       "    </tr>\n",
       "    <tr>\n",
       "      <th>2</th>\n",
       "      <td>29.74</td>\n",
       "      <td>1007.15</td>\n",
       "      <td>41.91</td>\n",
       "      <td>438.76</td>\n",
       "    </tr>\n",
       "    <tr>\n",
       "      <th>3</th>\n",
       "      <td>19.07</td>\n",
       "      <td>1007.22</td>\n",
       "      <td>76.79</td>\n",
       "      <td>453.09</td>\n",
       "    </tr>\n",
       "    <tr>\n",
       "      <th>4</th>\n",
       "      <td>11.80</td>\n",
       "      <td>1017.13</td>\n",
       "      <td>97.20</td>\n",
       "      <td>464.43</td>\n",
       "    </tr>\n",
       "  </tbody>\n",
       "</table>\n",
       "</div>"
      ],
      "text/plain": [
       "   Ambient_Temp  Ambient_Pressure  Relative_Humidity  Energy_Output\n",
       "0          8.34           1010.84              90.01         480.48\n",
       "1         23.64           1011.40              74.20         445.75\n",
       "2         29.74           1007.15              41.91         438.76\n",
       "3         19.07           1007.22              76.79         453.09\n",
       "4         11.80           1017.13              97.20         464.43"
      ]
     },
     "execution_count": 40,
     "metadata": {},
     "output_type": "execute_result"
    }
   ],
   "source": [
    "df.drop_duplicates(inplace=True)\n",
    "df.head()"
   ]
  },
  {
   "cell_type": "code",
   "execution_count": 42,
   "id": "7813d539",
   "metadata": {},
   "outputs": [
    {
     "data": {
      "text/html": [
       "<div>\n",
       "<style scoped>\n",
       "    .dataframe tbody tr th:only-of-type {\n",
       "        vertical-align: middle;\n",
       "    }\n",
       "\n",
       "    .dataframe tbody tr th {\n",
       "        vertical-align: top;\n",
       "    }\n",
       "\n",
       "    .dataframe thead th {\n",
       "        text-align: right;\n",
       "    }\n",
       "</style>\n",
       "<table border=\"1\" class=\"dataframe\">\n",
       "  <thead>\n",
       "    <tr style=\"text-align: right;\">\n",
       "      <th></th>\n",
       "      <th>Ambient_Temp</th>\n",
       "      <th>Ambient_Pressure</th>\n",
       "      <th>Relative_Humidity</th>\n",
       "      <th>Energy_Output</th>\n",
       "    </tr>\n",
       "  </thead>\n",
       "  <tbody>\n",
       "    <tr>\n",
       "      <th>count</th>\n",
       "      <td>9527.000000</td>\n",
       "      <td>9527.000000</td>\n",
       "      <td>9527.000000</td>\n",
       "      <td>9527.00000</td>\n",
       "    </tr>\n",
       "    <tr>\n",
       "      <th>mean</th>\n",
       "      <td>19.658225</td>\n",
       "      <td>1013.237084</td>\n",
       "      <td>73.334951</td>\n",
       "      <td>454.33591</td>\n",
       "    </tr>\n",
       "    <tr>\n",
       "      <th>std</th>\n",
       "      <td>7.444397</td>\n",
       "      <td>5.940526</td>\n",
       "      <td>14.607513</td>\n",
       "      <td>17.03908</td>\n",
       "    </tr>\n",
       "    <tr>\n",
       "      <th>min</th>\n",
       "      <td>1.810000</td>\n",
       "      <td>992.890000</td>\n",
       "      <td>25.560000</td>\n",
       "      <td>420.26000</td>\n",
       "    </tr>\n",
       "    <tr>\n",
       "      <th>25%</th>\n",
       "      <td>13.530000</td>\n",
       "      <td>1009.085000</td>\n",
       "      <td>63.375000</td>\n",
       "      <td>439.75000</td>\n",
       "    </tr>\n",
       "    <tr>\n",
       "      <th>50%</th>\n",
       "      <td>20.350000</td>\n",
       "      <td>1012.920000</td>\n",
       "      <td>75.000000</td>\n",
       "      <td>451.52000</td>\n",
       "    </tr>\n",
       "    <tr>\n",
       "      <th>75%</th>\n",
       "      <td>25.710000</td>\n",
       "      <td>1017.200000</td>\n",
       "      <td>84.850000</td>\n",
       "      <td>468.36500</td>\n",
       "    </tr>\n",
       "    <tr>\n",
       "      <th>max</th>\n",
       "      <td>37.110000</td>\n",
       "      <td>1033.300000</td>\n",
       "      <td>100.160000</td>\n",
       "      <td>495.76000</td>\n",
       "    </tr>\n",
       "  </tbody>\n",
       "</table>\n",
       "</div>"
      ],
      "text/plain": [
       "       Ambient_Temp  Ambient_Pressure  Relative_Humidity  Energy_Output\n",
       "count   9527.000000       9527.000000        9527.000000     9527.00000\n",
       "mean      19.658225       1013.237084          73.334951      454.33591\n",
       "std        7.444397          5.940526          14.607513       17.03908\n",
       "min        1.810000        992.890000          25.560000      420.26000\n",
       "25%       13.530000       1009.085000          63.375000      439.75000\n",
       "50%       20.350000       1012.920000          75.000000      451.52000\n",
       "75%       25.710000       1017.200000          84.850000      468.36500\n",
       "max       37.110000       1033.300000         100.160000      495.76000"
      ]
     },
     "execution_count": 42,
     "metadata": {},
     "output_type": "execute_result"
    }
   ],
   "source": [
    "df.describe()"
   ]
  },
  {
   "cell_type": "code",
   "execution_count": 43,
   "id": "929c2c4a",
   "metadata": {},
   "outputs": [
    {
     "data": {
      "text/plain": [
       "Ambient_Temp         0\n",
       "Ambient_Pressure     0\n",
       "Relative_Humidity    0\n",
       "Energy_Output        0\n",
       "dtype: int64"
      ]
     },
     "execution_count": 43,
     "metadata": {},
     "output_type": "execute_result"
    }
   ],
   "source": [
    "df.isnull().sum()"
   ]
  },
  {
   "cell_type": "code",
   "execution_count": 44,
   "id": "4c9a0033",
   "metadata": {},
   "outputs": [
    {
     "data": {
      "text/plain": [
       "<AxesSubplot:>"
      ]
     },
     "execution_count": 44,
     "metadata": {},
     "output_type": "execute_result"
    },
    {
     "data": {
      "image/png": "[encoded data removed]",
      "text/plain": [
       "<Figure size 504x360 with 2 Axes>"
      ]
     },
     "metadata": {
      "needs_background": "light"
     },
     "output_type": "display_data"
    }
   ],
   "source": [
    "import seaborn as sns\n",
    "plt.figure(figsize = (7, 5))\n",
    "sns.heatmap(df.corr(), annot = True)"
   ]
  },
  {
   "cell_type": "code",
   "execution_count": 45,
   "id": "8d4e8ad5",
   "metadata": {},
   "outputs": [
    {
     "data": {
      "image/png": "[encoded data removed]",
      "text/plain": [
       "<Figure size 432x288 with 4 Axes>"
      ]
     },
     "metadata": {
      "needs_background": "light"
     },
     "output_type": "display_data"
    }
   ],
   "source": [
    "fig, axes = plt.subplots(2,2)\n",
    "for i,el in enumerate(list(df.columns.values)[:-1]):\n",
    "    a = df.boxplot(el, ax=axes.flatten()[i])"
   ]
  },
  {
   "cell_type": "code",
   "execution_count": 46,
   "id": "5708ee08",
   "metadata": {},
   "outputs": [
    {
     "name": "stdout",
     "output_type": "stream",
     "text": [
      "(7654, 3)\n",
      "(1914, 3)\n",
      "(7654,)\n",
      "(1914,)\n"
     ]
    }
   ],
   "source": [
    "x_train,x_test,y_train,y_test=model_selection.train_test_split(x,y,test_size=0.2)\n",
    "print(x_train.shape)\n",
    "print(x_test.shape)\n",
    "print(y_train.shape)\n",
    "print(y_test.shape)"
   ]
  },
  {
   "cell_type": "code",
   "execution_count": 47,
   "id": "4e66ceef",
   "metadata": {},
   "outputs": [
    {
     "name": "stdout",
     "output_type": "stream",
     "text": [
      "[427.0699729  472.62898075 473.86790079 ... 432.51341354 478.8223461\n",
      " 473.5806919 ]\n"
     ]
    }
   ],
   "source": [
    "lm=linear_model.LinearRegression()\n",
    "model=lm.fit(x_train,y_train)\n",
    "pred=lm.predict(x_train)\n",
    "print(pred)"
   ]
  },
  {
   "cell_type": "code",
   "execution_count": 48,
   "id": "e3d9e195",
   "metadata": {},
   "outputs": [
    {
     "name": "stdout",
     "output_type": "stream",
     "text": [
      "Coefficients: [-2.37459634  0.02871513 -0.2044883 ]\n",
      "Intercept: 486.93295786868464\n"
     ]
    }
   ],
   "source": [
    "print('Coefficients:', model.coef_)\n",
    "print('Intercept:', model.intercept_)"
   ]
  },
  {
   "cell_type": "code",
   "execution_count": 57,
   "id": "a0ba9791",
   "metadata": {},
   "outputs": [
    {
     "name": "stdout",
     "output_type": "stream",
     "text": [
      "R-Squared:  0.9231046470753261\n"
     ]
    }
   ],
   "source": [
    "#checking accuracy:\n",
    "from sklearn.metrics import r2_score\n",
    "predd = lm.predict(x_test)\n",
    "print(\"R-Squared: \",r2_score(y_test, predd))"
   ]
  },
  {
   "cell_type": "code",
   "execution_count": 55,
   "id": "e4b8a738",
   "metadata": {},
   "outputs": [
    {
     "name": "stdout",
     "output_type": "stream",
     "text": [
      "RMSE: 4.80842478078142\n"
     ]
    }
   ],
   "source": [
    "from sklearn.metrics import mean_squared_error\n",
    "rmse = mean_squared_error(y_test, predd, squared=False)\n",
    "print(\"RMSE:\", rmse)"
   ]
  },
  {
   "cell_type": "code",
   "execution_count": 62,
   "id": "c8145b37",
   "metadata": {},
   "outputs": [
    {
     "data": {
      "text/plain": [
       "Text(0.5, 1.0, 'Observed vs. Predicted Energy Output')"
      ]
     },
     "execution_count": 62,
     "metadata": {},
     "output_type": "execute_result"
    },
    {
     "data": {
      "image/png": "[encoded data removed]",
      "text/plain": [
       "<Figure size 432x288 with 1 Axes>"
      ]
     },
     "metadata": {
      "needs_background": "light"
     },
     "output_type": "display_data"
    }
   ],
   "source": [
    "sns.regplot(x=y_test, y=predd, lowess=True, line_kws={'color': 'red'})\n",
    "plt.xlabel('Observed Energy Output')\n",
    "plt.ylabel('Predicted Energy Output')\n",
    "plt.title('Observed vs. Predicted Energy Output', fontsize=16)"
   ]
  }
 ],
 "metadata": {
  "kernelspec": {
   "display_name": "Python 3 (ipykernel)",
   "language": "python",
   "name": "python3"
  },
  "language_info": {
   "codemirror_mode": {
    "name": "ipython",
    "version": 3
   },
   "file_extension": ".py",
   "mimetype": "text/x-python",
   "name": "python",
   "nbconvert_exporter": "python",
   "pygments_lexer": "ipython3",
   "version": "3.9.2"
  }
 },
 "nbformat": 4,
 "nbformat_minor": 5
}
